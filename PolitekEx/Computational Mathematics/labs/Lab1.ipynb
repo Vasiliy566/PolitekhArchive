{
 "cells": [
  {
   "cell_type": "markdown",
   "metadata": {},
   "source": [
    "7 Вариант\n",
    "![title](lab1.png)\n",
    "\n",
    "\n",
    "Аналитическое решение первого интеграла\n",
    "![title](integral1.png)\n",
    "Численное решение\n",
    "2 + 1/e^3≈2.04978706836786"
   ]
  },
  {
   "cell_type": "code",
   "execution_count": 7,
   "metadata": {},
   "outputs": [],
   "source": [
    "import math\n",
    "import matplotlib.pyplot as plt\n",
    "import numpy as np\n",
    "import scipy as sp\n",
    "from scipy.interpolate import interp1d\n",
    "\n",
    "from scipy import *\n",
    "from scipy.integrate import *\n",
    "\n",
    "%matplotlib inline"
   ]
  },
  {
   "cell_type": "code",
   "execution_count": 138,
   "metadata": {},
   "outputs": [
    {
     "name": "stdout",
     "output_type": "stream",
     "text": [
      "0.0\n",
      "0.6321205588285577\n",
      "0.8646647167633873\n"
     ]
    }
   ],
   "source": [
    "#defenition of function given in task\n",
    "def my_func(x):\n",
    "    return( 1 - np.exp(-x))\n",
    "x = [0,1,2]\n",
    "for i in x:\n",
    "    print( my_func(i))"
   ]
  },
  {
   "cell_type": "code",
   "execution_count": 70,
   "metadata": {},
   "outputs": [
    {
     "data": {
      "text/plain": [
       "2.042671138420608"
      ]
     },
     "execution_count": 70,
     "metadata": {},
     "output_type": "execute_result"
    },
    {
     "data": {
      "image/png": "[encoded data removed]",
      "text/plain": [
       "<Figure size 432x288 with 1 Axes>"
      ]
     },
     "metadata": {
      "needs_background": "light"
     },
     "output_type": "display_data"
    }
   ],
   "source": [
    "#given in task function graph\n",
    "min_x = 0\n",
    "max_x = 3\n",
    "step = 0.3\n",
    "i = min_x\n",
    "valuesX = []\n",
    "valuesY = []\n",
    "while(i < max_x):\n",
    "    valuesX.append(my_func(i))\n",
    "    valuesY.append(i)\n",
    "    i += step\n",
    "plt.plot( valuesY, valuesX, 'o')\n",
    "np.trapz(valuesX, dx = step)"
   ]
  },
  {
   "cell_type": "code",
   "execution_count": 215,
   "metadata": {},
   "outputs": [],
   "source": [
    "#Lagrange polynom finction\n",
    "def lagranz(x,y,t):\n",
    "    z = 0\n",
    "    for j in range(len(y)):\n",
    "        p1 = 1 \n",
    "        p2 = 1\n",
    "        for i in range(len(x)):\n",
    "            if i == j:\n",
    "                p1 = p1 * 1 \n",
    "                p2 = p2 * 1   \n",
    "            else: \n",
    "                p1 = p1 * (t - x[i])\n",
    "                p2 = p2 * (x[j] - x[i])\n",
    "        z = z + y[j] * p1 / p2\n",
    "    return z"
   ]
  },
  {
   "cell_type": "code",
   "execution_count": 216,
   "metadata": {},
   "outputs": [],
   "source": [
    "#data prepearing\n",
    "nodes = [0.3 * i for i in range(11)]\n",
    "x = nodes\n",
    "y = []\n",
    "for i in range(len(x)):\n",
    "    y.append(my_func(x[i]))"
   ]
  },
  {
   "cell_type": "code",
   "execution_count": 217,
   "metadata": {},
   "outputs": [
    {
     "data": {
      "image/png": "[encoded data removed]",
      "text/plain": [
       "<Figure size 432x288 with 1 Axes>"
      ]
     },
     "metadata": {
      "needs_background": "light"
     },
     "output_type": "display_data"
    }
   ],
   "source": [
    "#Graph building\n",
    "x_lag = np.linspace(np.min(x),np.max(x), 11) # on 10 nodes\n",
    "y_lag = [lagranz(x, y, i) for i in x_lag]\n",
    "plt.plot(x,y,'o',x_lag,y_lag)\n",
    "plt.show()"
   ]
  },
  {
   "cell_type": "code",
   "execution_count": 223,
   "metadata": {},
   "outputs": [
    {
     "data": {
      "text/plain": [
       "[<matplotlib.lines.Line2D at 0x1148474a8>,\n",
       " <matplotlib.lines.Line2D at 0x1148475c0>]"
      ]
     },
     "execution_count": 223,
     "metadata": {},
     "output_type": "execute_result"
    },
    {
     "data": {
      "image/png": "[encoded data removed]",
      "text/plain": [
       "<Figure size 432x288 with 1 Axes>"
      ]
     },
     "metadata": {
      "needs_background": "light"
     },
     "output_type": "display_data"
    }
   ],
   "source": [
    "# Splain interpolation\n",
    "points = zip(x, y)\n",
    "\n",
    "# Sort list of tuples by x-value\n",
    "points = sorted(points, key=lambda point: point[0])\n",
    "\n",
    "# Split list of tuples into two list of x values any y values\n",
    "x, y = zip(*points)\n",
    "\n",
    "new_length = 11\n",
    "x_spline = np.linspace(min(x), max(x), new_length)\n",
    "y_spline = sp.interpolate.interp1d(x, y, kind='cubic')(x_spline)\n",
    "plt.plot(x_spline, y_spline, 'o', x_spline, y_spline, )"
   ]
  },
  {
   "cell_type": "code",
   "execution_count": 225,
   "metadata": {},
   "outputs": [
    {
     "name": "stdout",
     "output_type": "stream",
     "text": [
      " X    f(x)    lagr(x)    spline(x)\n",
      "0.0 0.000000000000 0.000000000000 0.000000000000\n",
      "0.3 0.259181779318 0.259181779318 0.259181779318\n",
      "0.6 0.451188363906 0.451188363906 0.451188363906\n",
      "0.9 0.593430340259 0.593430340259 0.593430340259\n",
      "1.2 0.698805788088 0.698805788088 0.698805788088\n",
      "1.5 0.776869839852 0.776869839852 0.776869839852\n",
      "1.8 0.834701111778 0.834701111778 0.834701111778\n",
      "2.1 0.877543571747 0.877543571747 0.877543571747\n",
      "2.4 0.909282046711 0.909282046711 0.909282046711\n",
      "2.7 0.932794487260 0.932794487260 0.932794487260\n",
      "3.0 0.950212931632 0.950212931632 0.950212931632\n"
     ]
    }
   ],
   "source": [
    "print(' X    f(x)    lagr(x)    spline(x)')\n",
    "for i in range(11):\n",
    "     print('%.1f' % x[i],'%.12f' % my_func(i* 0.3), '%.12f' %y_lag[i], '%.12f' %y_spline[i])\n",
    "    \n",
    "    \n",
    "    \n",
    "    "
   ]
  },
  {
   "cell_type": "code",
   "execution_count": 200,
   "metadata": {},
   "outputs": [
    {
     "ename": "TypeError",
     "evalue": "only integer scalar arrays can be converted to a scalar index",
     "output_type": "error",
     "traceback": [
      "\u001b[0;31m---------------------------------------------------------------------------\u001b[0m",
      "\u001b[0;31mTypeError\u001b[0m                                 Traceback (most recent call last)",
      "\u001b[0;32m<ipython-input-200-9c338f01e6ba>\u001b[0m in \u001b[0;36m<module>\u001b[0;34m\u001b[0m\n\u001b[1;32m     35\u001b[0m     \u001b[0;32mreturn\u001b[0m \u001b[0mSum\u001b[0m\u001b[0;34m\u001b[0m\u001b[0;34m\u001b[0m\u001b[0m\n\u001b[1;32m     36\u001b[0m \u001b[0;34m\u001b[0m\u001b[0m\n\u001b[0;32m---> 37\u001b[0;31m \u001b[0mNewtonCotes\u001b[0m\u001b[0;34m(\u001b[0m\u001b[0;36m0\u001b[0m\u001b[0;34m,\u001b[0m \u001b[0;36m3\u001b[0m\u001b[0;34m,\u001b[0m \u001b[0;36m8\u001b[0m\u001b[0;34m,\u001b[0m \u001b[0;36m11\u001b[0m\u001b[0;34m,\u001b[0m \u001b[0mspl\u001b[0m\u001b[0;34m)\u001b[0m\u001b[0;34m\u001b[0m\u001b[0;34m\u001b[0m\u001b[0m\n\u001b[0m",
      "\u001b[0;32m<ipython-input-200-9c338f01e6ba>\u001b[0m in \u001b[0;36mNewtonCotes\u001b[0;34m(a, b, Degree, Ndivisions, f)\u001b[0m\n\u001b[1;32m     28\u001b[0m \u001b[0;34m\u001b[0m\u001b[0m\n\u001b[1;32m     29\u001b[0m         \u001b[0;32mfor\u001b[0m \u001b[0mi\u001b[0m \u001b[0;32min\u001b[0m \u001b[0mrange\u001b[0m\u001b[0;34m(\u001b[0m\u001b[0;36m0\u001b[0m\u001b[0;34m,\u001b[0m \u001b[0mDegree\u001b[0m \u001b[0;34m+\u001b[0m \u001b[0;36m1\u001b[0m\u001b[0;34m,\u001b[0m \u001b[0;36m1\u001b[0m\u001b[0;34m)\u001b[0m\u001b[0;34m:\u001b[0m\u001b[0;34m\u001b[0m\u001b[0;34m\u001b[0m\u001b[0m\n\u001b[0;32m---> 30\u001b[0;31m             \u001b[0mPartSum\u001b[0m \u001b[0;34m+=\u001b[0m \u001b[0mkoef\u001b[0m\u001b[0;34m[\u001b[0m\u001b[0mDegree\u001b[0m\u001b[0;34m]\u001b[0m\u001b[0;34m[\u001b[0m\u001b[0mi\u001b[0m\u001b[0;34m]\u001b[0m \u001b[0;34m*\u001b[0m \u001b[0mf\u001b[0m\u001b[0;34m(\u001b[0m\u001b[0ma\u001b[0m \u001b[0;34m+\u001b[0m \u001b[0;34m(\u001b[0m\u001b[0mi\u001b[0m\u001b[0;34m+\u001b[0m\u001b[0mj\u001b[0m\u001b[0;34m*\u001b[0m\u001b[0mDegree\u001b[0m\u001b[0;34m)\u001b[0m \u001b[0;34m*\u001b[0m \u001b[0mh\u001b[0m \u001b[0;34m)\u001b[0m\u001b[0;34m\u001b[0m\u001b[0;34m\u001b[0m\u001b[0m\n\u001b[0m\u001b[1;32m     31\u001b[0m             \u001b[0;31m#print(a + (i+j*Degree) * h )\u001b[0m\u001b[0;34m\u001b[0m\u001b[0;34m\u001b[0m\u001b[0;34m\u001b[0m\u001b[0m\n\u001b[1;32m     32\u001b[0m         \u001b[0mSum\u001b[0m \u001b[0;34m+=\u001b[0m \u001b[0mmltp\u001b[0m\u001b[0;34m[\u001b[0m\u001b[0mDegree\u001b[0m\u001b[0;34m]\u001b[0m\u001b[0;34m*\u001b[0m\u001b[0mPartSum\u001b[0m\u001b[0;34m*\u001b[0m\u001b[0mh\u001b[0m\u001b[0;34m;\u001b[0m\u001b[0;34m\u001b[0m\u001b[0;34m\u001b[0m\u001b[0m\n",
      "\u001b[0;32m<ipython-input-199-7c9cccc18801>\u001b[0m in \u001b[0;36mspl\u001b[0;34m(x)\u001b[0m\n\u001b[1;32m      1\u001b[0m \u001b[0;32mdef\u001b[0m \u001b[0mspl\u001b[0m\u001b[0;34m(\u001b[0m\u001b[0mx\u001b[0m\u001b[0;34m)\u001b[0m\u001b[0;34m:\u001b[0m\u001b[0;34m\u001b[0m\u001b[0;34m\u001b[0m\u001b[0m\n\u001b[1;32m      2\u001b[0m     \u001b[0mi\u001b[0m \u001b[0;34m=\u001b[0m \u001b[0;36m0\u001b[0m\u001b[0;34m\u001b[0m\u001b[0;34m\u001b[0m\u001b[0m\n\u001b[0;32m----> 3\u001b[0;31m     \u001b[0;32mfor\u001b[0m \u001b[0mj\u001b[0m \u001b[0;32min\u001b[0m \u001b[0mlen\u001b[0m\u001b[0;34m(\u001b[0m\u001b[0mrange\u001b[0m\u001b[0;34m(\u001b[0m\u001b[0mx_spline\u001b[0m\u001b[0;34m)\u001b[0m\u001b[0;34m)\u001b[0m\u001b[0;34m:\u001b[0m\u001b[0;34m\u001b[0m\u001b[0;34m\u001b[0m\u001b[0m\n\u001b[0m\u001b[1;32m      4\u001b[0m         \u001b[0;32mif\u001b[0m \u001b[0mx_spline\u001b[0m\u001b[0;34m[\u001b[0m\u001b[0mj\u001b[0m\u001b[0;34m]\u001b[0m \u001b[0;34m==\u001b[0m \u001b[0mx\u001b[0m\u001b[0;34m:\u001b[0m\u001b[0;34m\u001b[0m\u001b[0;34m\u001b[0m\u001b[0m\n\u001b[1;32m      5\u001b[0m             \u001b[0;32mreturn\u001b[0m \u001b[0my_spline\u001b[0m\u001b[0;34m(\u001b[0m\u001b[0mj\u001b[0m\u001b[0;34m)\u001b[0m\u001b[0;34m\u001b[0m\u001b[0;34m\u001b[0m\u001b[0m\n",
      "\u001b[0;31mTypeError\u001b[0m: only integer scalar arrays can be converted to a scalar index"
     ]
    }
   ],
   "source": [
    "\n",
    "def NewtonCotes( a, b, Degree, Ndivisions, f):\n",
    "    koef= [ [ 1,0,0,0,0,0,0,0,0,0],\n",
    "                        [1,1,0,0,0,0,0,0,0,0],\n",
    "                        [1,4,1,0,0,0,0,0,0,0],\n",
    "                        [1,3,3,1,0,0,0,0,0,0],\n",
    "                        [7,32,12,32,7,0,0,0,0,0],\n",
    "                        [19,75,50,50,75,19,0,0,0,0],\n",
    "                        [41,216,27,272,27,216,41,0,0,0],\n",
    "                        [751,3577,1323,2989,2989,1323,3577,751,0,0],\n",
    "                        [989,5888,-928,10496,-4540,10496,-928,5888,989,0],\n",
    "                        [2857,15741,1080,19344,5778,5778,19344,1080,15741,2857],\n",
    "                        ];\n",
    "    mltp= [1,1.0/2,1.0/3,3.0/8,2.0/45,5.0/288,1.0/140,7.0/17280,4.0/14175,9.0/89600];\n",
    " \n",
    "    if ((Degree<0) or (Degree>9)):\n",
    "        print( ' error ')\n",
    "    if (a>=b) :\n",
    "        print(\"Wrong segment\")\n",
    "    if (Ndivisions<1):\n",
    "        Ndivisions = 1\n",
    " \n",
    "    h=(b-a)/(Degree*Ndivisions);\n",
    " \n",
    "    Sum = 0\n",
    "    for j in range(0, Ndivisions, 1):\n",
    "    \n",
    "        PartSum = 0\n",
    "        \n",
    "        for i in range(0, Degree + 1, 1):\n",
    "            PartSum += koef[Degree][i] * f(a + (i+j*Degree) * h )\n",
    "            #print(a + (i+j*Degree) * h )\n",
    "        Sum += mltp[Degree]*PartSum*h;\n",
    "    \n",
    " \n",
    "    return Sum\n",
    "\n",
    "NewtonCotes(0, 3, 8, 11, spl)"
   ]
  },
  {
   "cell_type": "code",
   "execution_count": null,
   "metadata": {},
   "outputs": [],
   "source": [
    "x_lag = np.linspace(np.min(x),np.max(x), 11)\n",
    "\n",
    "print(' true value : 2.04978706836786')\n",
    "print(' lagr :' , NewtonCotes(0, 3, 8, 11, my_func) )\n",
    "print(' spline :', simps(my_func(x_spline), dx = step))\n",
    "# trapz(sin(x),dx=pi/32)-"
   ]
  }
 ],
 "metadata": {
  "kernelspec": {
   "display_name": "Python 3",
   "language": "python",
   "name": "python3"
  },
  "language_info": {
   "codemirror_mode": {
    "name": "ipython",
    "version": 3
   },
   "file_extension": ".py",
   "mimetype": "text/x-python",
   "name": "python",
   "nbconvert_exporter": "python",
   "pygments_lexer": "ipython3",
   "version": "3.7.1"
  }
 },
 "nbformat": 4,
 "nbformat_minor": 2
}
