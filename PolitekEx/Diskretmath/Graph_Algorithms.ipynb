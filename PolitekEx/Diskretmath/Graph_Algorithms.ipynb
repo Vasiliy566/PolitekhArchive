{
 "cells": [
  {
   "cell_type": "markdown",
   "metadata": {},
   "source": [
    "<img src=\"1wXDt9n6vnw.jpg\">"
   ]
  },
  {
   "cell_type": "code",
   "execution_count": 2,
   "metadata": {},
   "outputs": [],
   "source": [
    "import numpy as np\n",
    "import networkx as nx\n",
    "import matplotlib.pyplot as plt\n",
    "\n",
    "import math\n",
    "%matplotlib inline\n"
   ]
  },
  {
   "cell_type": "code",
   "execution_count": 3,
   "metadata": {},
   "outputs": [],
   "source": [
    "def show_graph(matrix):\n",
    "    edge_list = []\n",
    "    for vertex in matrix:\n",
    "        for sub_vertex in vertex:\n",
    "            if not(sub_vertex == 0) and not(sub_vertex == math.inf):\n",
    "                edge_list.add()"
   ]
  },
  {
   "cell_type": "code",
   "execution_count": 4,
   "metadata": {},
   "outputs": [],
   "source": [
    "def init_graph():\n",
    "    adjacency_matrix = [[math.inf]]\n",
    "    return adjacency_matrix"
   ]
  },
  {
   "cell_type": "code",
   "execution_count": 5,
   "metadata": {},
   "outputs": [],
   "source": [
    "def add_vertex(adjacency_matrix):\n",
    "    for item in adjacency_matrix:\n",
    "        item.append(math.inf)\n",
    "    new_line = [math.inf for i in range(len(adjacency_matrix[0]) - 1)] + [math.inf]\n",
    "    adjacency_matrix.append(new_line)\n",
    "    return adjacency_matrix"
   ]
  },
  {
   "cell_type": "code",
   "execution_count": 6,
   "metadata": {},
   "outputs": [],
   "source": [
    "#Считаем, что граф !НАПРАВЛЕННЫЙ#\n",
    "def add_edge(vertex1, vertex2, weight, matrix):\n",
    "    matrix[vertex1][vertex2] = matrix[vertex2][vertex1] = weight"
   ]
  },
  {
   "cell_type": "code",
   "execution_count": 7,
   "metadata": {},
   "outputs": [],
   "source": [
    "def fill_matrix(inp, size):\n",
    "    \n",
    "    matrix = init_graph()\n",
    "    for i in range(size - 1):\n",
    "        add_vertex(matrix)\n",
    "        \n",
    "    adges = inp.split(', ')\n",
    "    for i in adges:\n",
    "        num = ''\n",
    "        j = len(i) - 1\n",
    "        while j > 0:\n",
    "            if i[j].isnumeric():\n",
    "                num = i[j] + num\n",
    "            else:\n",
    "                break\n",
    "            j -= 1\n",
    "        #print('added adge ({}; {}), weight = {}'.format(int(i[3]) - 1, int(i[6]) - 1, int(num) ))\n",
    "        matrix[int(i[3]) - 1][int(i[6]) -1] = matrix[int(i[6]) -1][int(i[3]) - 1] = int(num)\n",
    "        \n",
    "        \n",
    "    return matrix\n",
    "\n",
    "\n"
   ]
  },
  {
   "cell_type": "code",
   "execution_count": 8,
   "metadata": {},
   "outputs": [],
   "source": [
    "def floyd(matrix):\n",
    "    next_v = [ [math.inf for i in range(len(matrix))] for i in range(len(matrix))]\n",
    "    for i in range(len(matrix)):\n",
    "        for j in range(len(matrix)):\n",
    "            if matrix[i][j] != math.inf: \n",
    "                next_v[i][j] = j\n",
    "                next_v[j][i] = i\n",
    "            \n",
    "    d = matrix.copy()\n",
    "    #print(d)\n",
    "    n = len(matrix) \n",
    "    for k in range (0 , n):\n",
    "        for i in range (0 , n):\n",
    "            for j in range (0 , n):\n",
    "               # print(' {} <> {}'.format( d[k][j], (d[k][i] + d[i][j]) ))\n",
    "                #print(' {}; {} vs ({}; {}) + ({}; {}) '.format(k, j, k, i, i, j))\n",
    "                if k != j and k != i and i != j:\n",
    "                    if d[k][j] > d[k][i] + d[i][j]:\n",
    "\n",
    "                        next_v[k][j] = i\n",
    "                        next_v[j][k] = i\n",
    "                    d[k][j] = d[j][k] = min(d[k][j], (d[k][i] + d[i][j]))\n",
    "                \n",
    "    return d, next_v\n",
    "            "
   ]
  },
  {
   "cell_type": "code",
   "execution_count": 15,
   "metadata": {},
   "outputs": [],
   "source": [
    "def getShortestPath(u, v, next_v, d):\n",
    "    u -= 1\n",
    "    v -= 1\n",
    "    print('len = ', d[u][v])\n",
    "    if d[u][v] == math.inf:\n",
    "        print( \"No path found\")                 \n",
    "    c = u\n",
    "   \n",
    "    while c != v:\n",
    "        print (c + 1, end = ' -> ')\n",
    "        c = next_v[c][v]\n",
    "    print (v + 1)\n",
    "    "
   ]
  },
  {
   "cell_type": "code",
   "execution_count": 41,
   "metadata": {},
   "outputs": [],
   "source": [
    "def Dijkstra(N, S, matrix):\n",
    "    S = S - 1\n",
    "    valid = [True]*N        \n",
    "    weight = [1000000]*N\n",
    "    weight[S] = 0\n",
    "    for i in range(N):\n",
    "        min_weight = 1000001\n",
    "        ID_min_weight = -1\n",
    "        for i in range(len(weight)):\n",
    "            if valid[i] and weight[i] < min_weight:\n",
    "                min_weight = weight[i]\n",
    "                ID_min_weight = i\n",
    "        for i in range(N):\n",
    "            if weight[ID_min_weight] + matrix[ID_min_weight][i] < weight[i]:\n",
    "                weight[i] = weight[ID_min_weight] + matrix[ID_min_weight][i]\n",
    "        valid[ID_min_weight] = False\n",
    "    return weight"
   ]
  },
  {
   "cell_type": "markdown",
   "metadata": {},
   "source": [
    "FLOYD-WORSHEL"
   ]
  },
  {
   "cell_type": "code",
   "execution_count": 42,
   "metadata": {},
   "outputs": [
    {
     "name": "stdout",
     "output_type": "stream",
     "text": [
      "[inf, inf, 16, inf, 12, 6, inf, 13]\n",
      "[inf, inf, 18, 23, inf, 17, inf, inf]\n",
      "[16, 18, inf, inf, 29, 31, inf, inf]\n",
      "[inf, 23, inf, inf, inf, 27, 3, inf]\n",
      "[12, inf, 29, inf, inf, 24, inf, inf]\n",
      "[6, 17, 31, 27, 24, inf, 2, 1]\n",
      "[inf, inf, inf, 3, inf, 2, inf, inf]\n",
      "[13, inf, inf, inf, inf, 1, inf, inf]\n"
     ]
    }
   ],
   "source": [
    "inp = 'w(v1,v3) = 16, w(v1,v5)=12, w(v1,v6)=6, w(v1,v8)=13, w(v2,v3)=18, w(v2,v4)=23, w(v2,v6)=17, w(v3,v5)=29, w(v3,v6)=31, w(v4,v6)=27, w(v4,v7)=3, w(v5,v6)=24, w(v6,v7)=2, w(v6,v8)=1' \n",
    "matrix = fill_matrix(inp, 8)\n",
    "for i in matrix:\n",
    "    print (i)\n"
   ]
  },
  {
   "cell_type": "code",
   "execution_count": 43,
   "metadata": {
    "scrolled": true
   },
   "outputs": [
    {
     "name": "stdout",
     "output_type": "stream",
     "text": [
      "[inf, 23, 16, 11, 12, 6, 8, 7]\n",
      "[23, inf, 18, 22, 35, 17, 19, 18]\n",
      "[16, 18, inf, 27, 28, 22, 24, 23]\n",
      "[11, 22, 27, inf, 23, 5, 3, 6]\n",
      "[12, 35, 28, 23, inf, 18, 20, 19]\n",
      "[6, 17, 22, 5, 18, inf, 2, 1]\n",
      "[8, 19, 24, 3, 20, 2, inf, 3]\n",
      "[7, 18, 23, 6, 19, 1, 3, inf]\n"
     ]
    }
   ],
   "source": [
    "dist, next_v = (floyd(matrix))\n",
    "for i in dist:\n",
    "    print(i)"
   ]
  },
  {
   "cell_type": "code",
   "execution_count": 44,
   "metadata": {},
   "outputs": [
    {
     "name": "stdout",
     "output_type": "stream",
     "text": [
      "len =  3\n",
      "7 -> 6 -> 8\n"
     ]
    }
   ],
   "source": [
    "getShortestPath(7, 8, next_v, dist)"
   ]
  },
  {
   "cell_type": "code",
   "execution_count": 45,
   "metadata": {},
   "outputs": [
    {
     "data": {
      "text/plain": [
       "[8, 19, 24, 3, 20, 2, 0, 3]"
      ]
     },
     "execution_count": 45,
     "metadata": {},
     "output_type": "execute_result"
    }
   ],
   "source": [
    "Dijkstra(8, 7, matrix)"
   ]
  },
  {
   "cell_type": "code",
   "execution_count": 30,
   "metadata": {},
   "outputs": [
    {
     "data": {
      "text/plain": [
       "[[0, 0, 16, 0, 12, 6, 0, 13],\n",
       " [0, 0, 18, 23, 0, 17, 0, 0],\n",
       " [16, 18, 0, 0, 29, 31, 0, 0],\n",
       " [0, 23, 0, 0, 0, 27, 3, 0],\n",
       " [12, 0, 29, 0, 0, 24, 0, 0],\n",
       " [6, 17, 31, 27, 24, 0, 2, 1],\n",
       " [0, 0, 0, 3, 0, 2, 0, 0],\n",
       " [13, 0, 0, 0, 0, 1, 0, 0]]"
      ]
     },
     "execution_count": 30,
     "metadata": {},
     "output_type": "execute_result"
    }
   ],
   "source": [
    "matrix = fill_matrix(inp, 8)\n",
    "for i in range(len(matrix)):\n",
    "    for j in range(len(matrix)):\n",
    "        if matrix[i][j] == math.inf:\n",
    "            matrix[i][j] = 0\n",
    "        #print(i, ' ', j)\n",
    "        #print(matrix[i][j])\n",
    "matrix"
   ]
  },
  {
   "cell_type": "code",
   "execution_count": 54,
   "metadata": {},
   "outputs": [
    {
     "name": "stderr",
     "output_type": "stream",
     "text": [
      "/usr/local/lib/python3.7/site-packages/networkx/drawing/layout.py:526: RuntimeWarning: invalid value encountered in less\n",
      "  length = np.where(length < 0.01, 0.1, length)\n"
     ]
    },
    {
     "ename": "NameError",
     "evalue": "name 'labels' is not defined",
     "output_type": "error",
     "traceback": [
      "\u001b[0;31m---------------------------------------------------------------------------\u001b[0m",
      "\u001b[0;31mNameError\u001b[0m                                 Traceback (most recent call last)",
      "\u001b[0;32m<ipython-input-54-b30630e3e315>\u001b[0m in \u001b[0;36m<module>\u001b[0;34m\u001b[0m\n\u001b[1;32m      3\u001b[0m \u001b[0;34m\u001b[0m\u001b[0m\n\u001b[1;32m      4\u001b[0m \u001b[0mnx\u001b[0m\u001b[0;34m.\u001b[0m\u001b[0mdraw\u001b[0m\u001b[0;34m(\u001b[0m\u001b[0mG\u001b[0m\u001b[0;34m,\u001b[0m \u001b[0mpos\u001b[0m\u001b[0;34m,\u001b[0m \u001b[0mwith_labels\u001b[0m\u001b[0;34m=\u001b[0m\u001b[0;32mTrue\u001b[0m\u001b[0;34m)\u001b[0m\u001b[0;34m\u001b[0m\u001b[0;34m\u001b[0m\u001b[0m\n\u001b[0;32m----> 5\u001b[0;31m \u001b[0mnx\u001b[0m\u001b[0;34m.\u001b[0m\u001b[0mdraw_networkx_edge_labels\u001b[0m\u001b[0;34m(\u001b[0m\u001b[0mG\u001b[0m\u001b[0;34m,\u001b[0m\u001b[0mpos\u001b[0m\u001b[0;34m,\u001b[0m\u001b[0medge_labels\u001b[0m\u001b[0;34m=\u001b[0m\u001b[0mlabels\u001b[0m\u001b[0;34m)\u001b[0m\u001b[0;34m\u001b[0m\u001b[0;34m\u001b[0m\u001b[0m\n\u001b[0m\u001b[1;32m      6\u001b[0m \u001b[0;31m#edge_labels=nx.draw_networkx_edge_labels(G,pos=nx.spring_layout(G))\u001b[0m\u001b[0;34m\u001b[0m\u001b[0;34m\u001b[0m\u001b[0;34m\u001b[0m\u001b[0m\n\u001b[1;32m      7\u001b[0m \u001b[0;31m#nx.draw_networkx_edge_labels(G, pos, edge_labels = edge_labels)\u001b[0m\u001b[0;34m\u001b[0m\u001b[0;34m\u001b[0m\u001b[0;34m\u001b[0m\u001b[0m\n",
      "\u001b[0;31mNameError\u001b[0m: name 'labels' is not defined"
     ]
    },
    {
     "name": "stderr",
     "output_type": "stream",
     "text": [
      "posx and posy should be finite values\n",
      "posx and posy should be finite values\n",
      "posx and posy should be finite values\n",
      "posx and posy should be finite values\n",
      "posx and posy should be finite values\n",
      "posx and posy should be finite values\n",
      "posx and posy should be finite values\n",
      "posx and posy should be finite values\n",
      "posx and posy should be finite values\n",
      "posx and posy should be finite values\n",
      "posx and posy should be finite values\n",
      "posx and posy should be finite values\n",
      "posx and posy should be finite values\n",
      "posx and posy should be finite values\n",
      "posx and posy should be finite values\n",
      "posx and posy should be finite values\n",
      "posx and posy should be finite values\n",
      "posx and posy should be finite values\n",
      "posx and posy should be finite values\n",
      "posx and posy should be finite values\n",
      "posx and posy should be finite values\n",
      "posx and posy should be finite values\n",
      "posx and posy should be finite values\n",
      "posx and posy should be finite values\n"
     ]
    },
    {
     "data": {
      "image/png": "[encoded data removed]",
      "text/plain": [
       "<Figure size 432x288 with 1 Axes>"
      ]
     },
     "metadata": {},
     "output_type": "display_data"
    }
   ],
   "source": [
    "G = nx.from_numpy_matrix(np.array(matrix)) \n",
    "pos = nx.spring_layout(G) \n",
    "\n",
    "nx.draw(G, pos, with_labels=True)\n",
    "nx.draw_networkx_edge_labels(G,pos,edge_labels=labels)\n",
    "#edge_labels=nx.draw_networkx_edge_labels(G,pos=nx.spring_layout(G))\n",
    "#nx.draw_networkx_edge_labels(G, pos, edge_labels = edge_labels)"
   ]
  },
  {
   "cell_type": "code",
   "execution_count": null,
   "metadata": {},
   "outputs": [],
   "source": []
  }
 ],
 "metadata": {
  "kernelspec": {
   "display_name": "Python 3",
   "language": "python",
   "name": "python3"
  },
  "language_info": {
   "codemirror_mode": {
    "name": "ipython",
    "version": 3
   },
   "file_extension": ".py",
   "mimetype": "text/x-python",
   "name": "python",
   "nbconvert_exporter": "python",
   "pygments_lexer": "ipython3",
   "version": "3.7.3"
  }
 },
 "nbformat": 4,
 "nbformat_minor": 2
}
